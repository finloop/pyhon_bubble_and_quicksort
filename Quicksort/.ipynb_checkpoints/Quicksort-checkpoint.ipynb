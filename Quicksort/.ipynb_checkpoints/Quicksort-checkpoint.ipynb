{
 "cells": [
  {
   "cell_type": "code",
   "execution_count": 26,
   "metadata": {},
   "outputs": [
    {
     "name": "stdout",
     "output_type": "stream",
     "text": [
      "[3, 2, 5, 4, 7, 3, 5, 2, 6, 8]\n"
     ]
    }
   ],
   "source": [
    "import random\n",
    "tab = [random.randrange(1,10) for i in range(0,10)]\n",
    "print(tab)\n",
    "z = tab"
   ]
  },
  {
   "cell_type": "code",
   "execution_count": 23,
   "metadata": {},
   "outputs": [],
   "source": [
    "def quicksort(tab, low, high):\n",
    "    if low < high:\n",
    "        mid = partition(tab,low,high)\n",
    "        quicksort(tab,low,mid-1)\n",
    "        quicksort(tab,mid+1,high)\n",
    "    "
   ]
  },
  {
   "cell_type": "code",
   "execution_count": 20,
   "metadata": {},
   "outputs": [],
   "source": [
    "# Zwraca indeks taki że, po lewej stronie są wartości mniejsze od niego, a po prawej większe.\n",
    "def partition(tab, low, high):\n",
    "    # Wybieram indeks high jako wartość względem której będę porównywał elementy i nazwę ją pivot.\n",
    "    pivot = tab[high]\n",
    "    # mid to indeks pivot, za którym będą znajdować się wartości większe od pivot.,\n",
    "    #na początek ustawiam go na pierwszą wartość.\n",
    "    mid = low\n",
    "    # Dla każdego elementu w zakresie low-high\n",
    "    for i in range(low, high):\n",
    "        # Jeżeli wartość w tablicy jest mniejsza od pivot\n",
    "        if tab[i] < pivot:\n",
    "            # Zamieniam miejscami w tablicy obecną wartość z mid\n",
    "            tab[i], tab[mid] = tab[mid], tab[i]\n",
    "            # zwiększam mid o 1\n",
    "            mid+=1\n",
    "    tab[mid], tab[high] = tab[high], tab[mid]\n",
    "    return mid\n",
    "            "
   ]
  },
  {
   "cell_type": "code",
   "execution_count": 27,
   "metadata": {},
   "outputs": [
    {
     "name": "stdout",
     "output_type": "stream",
     "text": [
      "[2, 2, 3, 3, 4, 5, 5, 6, 7, 8]\n"
     ]
    }
   ],
   "source": [
    "q = quicksort(tab, 0, len(tab) - 1)\n",
    "print(z)"
   ]
  },
  {
   "cell_type": "code",
   "execution_count": null,
   "metadata": {},
   "outputs": [],
   "source": []
  }
 ],
 "metadata": {
  "kernelspec": {
   "display_name": "Python 3",
   "language": "python",
   "name": "python3"
  },
  "language_info": {
   "codemirror_mode": {
    "name": "ipython",
    "version": 3
   },
   "file_extension": ".py",
   "mimetype": "text/x-python",
   "name": "python",
   "nbconvert_exporter": "python",
   "pygments_lexer": "ipython3",
   "version": "3.7.2"
  }
 },
 "nbformat": 4,
 "nbformat_minor": 4
}
