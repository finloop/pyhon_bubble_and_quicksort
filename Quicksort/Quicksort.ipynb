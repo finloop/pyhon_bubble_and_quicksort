{
 "cells": [
  {
   "cell_type": "code",
   "execution_count": null,
   "metadata": {},
   "outputs": [],
   "source": [
    "import random\n",
    "tab = [random.randrange(1,10) for i in range(0,10)]\n",
    "print(tab)\n",
    "z = tab"
   ]
  },
  {
   "cell_type": "markdown",
   "metadata": {},
   "source": [
    "# Benchamrk quicksorta i plot ilość iteracji/ilość elementów posortowane"
   ]
  },
  {
   "cell_type": "code",
   "execution_count": 2,
   "metadata": {},
   "outputs": [
    {
     "data": {
      "image/png": "[encoded data removed]",
      "text/plain": [
       "<Figure size 432x288 with 1 Axes>"
      ]
     },
     "metadata": {
      "needs_background": "light"
     },
     "output_type": "display_data"
    },
    {
     "name": "stdout",
     "output_type": "stream",
     "text": [
      "[0, 0, 1, 3, 6, 10, 15, 21, 28, 36, 45, 55, 66, 78, 91, 105, 120, 136, 153, 171, 190, 210, 231, 253, 276, 300, 325, 351, 378, 406, 435, 465, 496, 528, 561, 595, 630, 666, 703, 741, 780, 820, 861, 903, 946, 990, 1035, 1081, 1128, 1176, 1225, 1275, 1326, 1378, 1431, 1485, 1540, 1596, 1653, 1711, 1770, 1830, 1891, 1953, 2016, 2080, 2145, 2211, 2278, 2346, 2415, 2485, 2556, 2628, 2701, 2775, 2850, 2926, 3003, 3081, 3160, 3240, 3321, 3403, 3486, 3570, 3655, 3741, 3828, 3916, 4005, 4095, 4186, 4278, 4371, 4465, 4560, 4656, 4753]\n",
      "[0, 0, 2, 5, 9, 14, 20, 27, 35, 44, 54, 65, 77, 90, 104, 119, 135, 152, 170, 189, 209, 230, 252, 275, 299, 324, 350, 377, 405, 434, 464, 495, 527, 560, 594, 629, 665, 702, 740, 779, 819, 860, 902, 945, 989, 1034, 1080, 1127, 1175, 1224, 1274, 1325, 1377, 1430, 1484, 1539, 1595, 1652, 1710, 1769, 1829, 1890, 1952, 2015, 2079, 2144, 2210, 2277, 2345, 2414, 2484, 2555, 2627, 2700, 2774, 2849, 2925, 3002, 3080, 3159, 3239, 3320, 3402, 3485, 3569, 3654, 3740, 3827, 3915, 4004, 4094, 4185, 4277, 4370, 4464, 4559, 4655, 4752, 4850]\n",
      "[3.0999999864889105e-06, 1.4000000021496817e-06, 8.39999998447638e-06, 1.1400000005323818e-05, 1.8400000016072227e-05, 2.649999998993735e-05, 3.709999998591229e-05, 4.050000001143417e-05, 4.989999999338579e-05, 6.930000000693326e-05, 0.00014860000001704066, 0.0010612000000094213, 0.00010090000000673172, 8.769999999458378e-05, 0.000625299999995832, 0.004084899999980962, 0.0001630000000147902, 0.00015890000000240434, 0.00017550000001165245, 0.001956000000006952, 0.0002850999999850501, 0.0003169999999954598, 0.00032949999999232205, 0.0003559000000166179, 0.000400899999988269, 0.0004166999999881682, 0.0004820000000052005, 0.0004916999999977634, 0.0005367999999918993, 0.0005682000000035714, 0.0006113000000027569, 0.0006519000000082542, 0.0006885999999894921, 0.0007352000000082626, 0.0007710000000145101, 0.0008248999999977968, 0.0008555999999941832, 0.0009100000000046293, 0.0009775999999988016, 0.0010197000000005119, 0.0010725999999863234, 0.0011245000000030814, 0.0011777999999935673, 0.0012220999999783544, 0.0013402999999811982, 0.0034239000000013675, 0.001400099999983695, 0.0016334999999969568, 0.001451300000013589, 0.0013572999999951207, 0.0016042999999967833, 0.0017395999999791911, 0.0015071999999918262, 0.0019174999999904685, 0.0015768000000093707, 0.0021327000000042062, 0.0024634000000105516, 0.002442600000023276, 0.0028173999999978605, 0.003001799999992727, 0.003708900000020776, 0.0026866999999981545, 0.0027130999999940286, 0.0027442999999891526, 0.0032506000000012136, 0.0029523000000040156, 0.003016800000011699, 0.0029622000000131266, 0.0031945000000064283, 0.003264300000012099, 0.0033298999999828993, 0.003378300000008494, 0.003497299999992265, 0.003460300000000416, 0.003566500000005135, 0.0036150999999904343, 0.003867299999996021, 0.003955399999995279, 0.004233799999980192, 0.003999900000025036, 0.004381399999999758, 0.004459599999989905, 0.004326999999989312, 0.00439529999999877, 0.004560800000007248, 0.00465779999998972, 0.004597799999999097, 0.0047394999999994525, 0.004855200000008608, 0.005166599999995469, 0.005257000000000289, 0.005401400000010881, 0.007233299999995779, 0.00558870000000411, 0.00588790000000472, 0.006210000000010041, 0.006201699999991206, 0.006232999999980393, 0.005945999999994456]\n"
     ]
    }
   ],
   "source": [
    "import random\n",
    "from timeit import default_timer as timer\n",
    "import matplotlib.pyplot as plt\n",
    "\n",
    "# Zwraca indeks taki że, po lewej stronie są wartości mniejsze od niego, a po prawej większe.\n",
    "def partition(tab, low, high):\n",
    "    # Wybieram indeks high jako wartość względem której będę porównywał elementy i nazwę ją pivot.\n",
    "    pivot = tab[high]\n",
    "    # mid to indeks pivot, za którym będą znajdować się wartości większe od pivot.,\n",
    "    #na początek ustawiam go na pierwszą wartość.s\n",
    "    mid = low\n",
    "    # Dla każdego elementu w zakresie low-high\n",
    "    for i in range(low, high):\n",
    "        global liczba_iteracji\n",
    "        liczba_iteracji += 1\n",
    "        # Jeżeli wartość w tablicy jest mniejsza od pivot\n",
    "        if tab[i] < pivot:\n",
    "            global liczba_zamian\n",
    "            liczba_zamian +=1\n",
    "            # Zamieniam miejscami w tablicy obecną wartość z mid\n",
    "            tab[i], tab[mid] = tab[mid], tab[i]\n",
    "            # zwiększam mid o 1\n",
    "            mid+=1\n",
    "    liczba_zamian+=1\n",
    "    tab[mid], tab[high] = tab[high], tab[mid]\n",
    "    return mid\n",
    "            \n",
    "    \n",
    "def quicksort(tab, low, high):\n",
    "    if low < high:\n",
    "        mid = partition(tab,low,high)\n",
    "        quicksort(tab,low,mid-1)\n",
    "        quicksort(tab,mid+1,high)\n",
    "        \n",
    "        \n",
    "def benchmark_3():\n",
    "    lista_iteracji = []\n",
    "    lista_zmian = []\n",
    "    czasy = []\n",
    "    ile = 100\n",
    "    for liczby in range(1,ile):\n",
    "        global liczba_iteracji\n",
    "        global liczba_zamian\n",
    "        liczba_iteracji = 0\n",
    "        liczba_zamian = 0\n",
    "        tablica_przed_posortowaniem = [i for i in range(1,liczby)]\n",
    "        posort = list.copy(tablica_przed_posortowaniem)\n",
    "\n",
    "        qstart = timer()\n",
    "        quicksort(posort,0,len(posort)-1)\n",
    "        qend = timer()\n",
    "        \n",
    "        lista_iteracji.append(liczba_iteracji)\n",
    "        lista_zmian.append(liczba_zamian)\n",
    "        czasy.append(qend - qstart)\n",
    "        \n",
    "    plt.plot(range(1,ile), lista_iteracji)\n",
    "    plt.show()\n",
    "    #print(lista_iteracji)\n",
    "    #print(lista_zmian)\n",
    "    #print(czasy)\n",
    "        \n",
    "liczba_iteracji = 0\n",
    "liczba_zamian = 0\n",
    "benchmark_3()"
   ]
  },
  {
   "cell_type": "markdown",
   "metadata": {},
   "source": [
    "# Benchamrk quicksorta i plot ilość iteracji/ilość elementów posortowane"
   ]
  },
  {
   "cell_type": "code",
   "execution_count": 21,
   "metadata": {},
   "outputs": [
    {
     "data": {
      "image/png": "[encoded data removed]",
      "text/plain": [
       "<Figure size 432x288 with 1 Axes>"
      ]
     },
     "metadata": {
      "needs_background": "light"
     },
     "output_type": "display_data"
    }
   ],
   "source": [
    "import random\n",
    "from timeit import default_timer as timer\n",
    "import matplotlib.pyplot as plt\n",
    "\n",
    "# Zwraca indeks taki że, po lewej stronie są wartości mniejsze od niego, a po prawej większe.\n",
    "def partition(tab, low, high):\n",
    "    # Wybieram indeks high jako wartość względem której będę porównywał elementy i nazwę ją pivot.\n",
    "    pivot = tab[high]\n",
    "    # mid to indeks pivot, za którym będą znajdować się wartości większe od pivot.,\n",
    "    #na początek ustawiam go na pierwszą wartość.s\n",
    "    mid = low\n",
    "    # Dla każdego elementu w zakresie low-high\n",
    "    for i in range(low, high):\n",
    "        global liczba_iteracji\n",
    "        liczba_iteracji += 1\n",
    "        # Jeżeli wartość w tablicy jest mniejsza od pivot\n",
    "        if tab[i] < pivot:\n",
    "            global liczba_zamian\n",
    "            liczba_zamian +=1\n",
    "            # Zamieniam miejscami w tablicy obecną wartość z mid\n",
    "            tab[i], tab[mid] = tab[mid], tab[i]\n",
    "            # zwiększam mid o 1\n",
    "            mid+=1\n",
    "    liczba_zamian+=1\n",
    "    tab[mid], tab[high] = tab[high], tab[mid]\n",
    "    return mid\n",
    "            \n",
    "    \n",
    "def quicksort(tab, low, high):\n",
    "    if low < high:\n",
    "        mid = partition(tab,low,high)\n",
    "        quicksort(tab,low,mid-1)\n",
    "        quicksort(tab,mid+1,high)\n",
    "        \n",
    "\n",
    "def benchmark_3():\n",
    "    lista_iteracji = []\n",
    "    lista_zmian = []\n",
    "    czasy = []\n",
    "    ile = 10000\n",
    "    rang = []\n",
    "    for liczby in range(1,ile,50):\n",
    "        global liczba_iteracji\n",
    "        global liczba_zamian\n",
    "        global tablica_przed_posortowaniem\n",
    "        liczba_iteracji = 0\n",
    "        liczba_zamian = 0\n",
    "        #tablica_przed_posortowaniem = [random.randrange(1,1001) for i in range(1,liczby)]\n",
    "        \n",
    "        posort = list.copy(tablica_przed_posortowaniem[0:liczby])\n",
    "\n",
    "        qstart = timer()\n",
    "        quicksort(posort,0,len(posort)-1)\n",
    "        qend = timer()\n",
    "        rang.append(liczby)\n",
    "        lista_iteracji.append(liczba_iteracji)\n",
    "        lista_zmian.append(liczba_zamian)\n",
    "        czasy.append(qend - qstart)\n",
    "        \n",
    "    plt.plot(rang, lista_iteracji)\n",
    "    plt.show()\n",
    "    #print(lista_iteracji)\n",
    "    #print(lista_zmian)\n",
    "    #print(czasy)\n",
    "        \n",
    "liczba_iteracji = 0\n",
    "liczba_zamian = 0\n",
    "tablica_przed_posortowaniem = [random.randrange(1,10001) for i in range(1,10001)]\n",
    "benchmark_3()"
   ]
  },
  {
   "cell_type": "code",
   "execution_count": null,
   "metadata": {},
   "outputs": [],
   "source": []
  }
 ],
 "metadata": {
  "kernelspec": {
   "display_name": "Python 3",
   "language": "python",
   "name": "python3"
  },
  "language_info": {
   "codemirror_mode": {
    "name": "ipython",
    "version": 3
   },
   "file_extension": ".py",
   "mimetype": "text/x-python",
   "name": "python",
   "nbconvert_exporter": "python",
   "pygments_lexer": "ipython3",
   "version": "3.7.2"
  }
 },
 "nbformat": 4,
 "nbformat_minor": 4
}
