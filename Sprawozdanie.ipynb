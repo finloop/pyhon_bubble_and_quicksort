{
 "cells": [
  {
   "cell_type": "markdown",
   "metadata": {},
   "source": [
    "# Sortwanie szybkie\n",
    "## Opis algorytmu\n",
    "Jest to algorytm sortujący. Sortuje on dane poprzez wybranie pewnej liczby z tablicy, a następnie przekładanie liczb w tej tablicy tak aby po lewej stronie znalazły się liczby mniejsze od wybranej a po prawej większe. Następnie wykonuje tą samą operację dla tablicy po lewej i po prawej stronie.\n",
    "## Kod"
   ]
  },
  {
   "cell_type": "code",
   "execution_count": 14,
   "metadata": {},
   "outputs": [],
   "source": [
    "# Zwraca indeks taki że, po lewej stronie są wartości mniejsze od niego, a po prawej większe.\n",
    "def partition(tab, low, high):\n",
    "    # Wybieram indeks high jako wartość względem której będę porównywał elementy i nazwę ją pivot.\n",
    "    pivot = tab[high]\n",
    "    # mid to indeks pivot, za którym będą znajdować się wartości większe od pivot.,\n",
    "    #na początek ustawiam go na pierwszą wartość.\n",
    "    mid = low\n",
    "    # Dla każdego elementu w zakresie low-high\n",
    "    for i in range(low, high):\n",
    "        # Jeżeli wartość w tablicy jest mniejsza od pivot\n",
    "        if tab[i] < pivot:\n",
    "            # Zamieniam miejscami w tablicy obecną wartość z mid\n",
    "            tab[i], tab[mid] = tab[mid], tab[i]\n",
    "            # zwiększam mid o 1\n",
    "            mid+=1\n",
    "    tab[mid], tab[high] = tab[high], tab[mid]\n",
    "    return mid\n",
    "            \n",
    "    \n",
    "def quicksort(tab, low, high):\n",
    "    if low < high:\n",
    "        mid = partition(tab,low,high)\n",
    "        quicksort(tab,low,mid-1)\n",
    "        quicksort(tab,mid+1,high)"
   ]
  },
  {
   "cell_type": "markdown",
   "metadata": {},
   "source": [
    "## Schematy blokowe\n",
    "### Funkcja sortująca\n",
    "![quicksort](Quicksort/Quicksort.png)\n",
    "### Funkcja przestawiająca dane w tablicy\n",
    "![quicksort](Quicksort/Partition.png)"
   ]
  },
  {
   "cell_type": "markdown",
   "metadata": {},
   "source": [
    "# Doświadczenia:\n",
    "## Doświadczenie 1\n",
    "- Zakres liczb: 1-20,\n",
    "- Ilość liczb: 10,\n",
    "- Sposób wybierania: losowy"
   ]
  },
  {
   "cell_type": "code",
   "execution_count": 13,
   "metadata": {},
   "outputs": [
    {
     "name": "stdout",
     "output_type": "stream",
     "text": [
      "Przed posortowaniem: \n",
      "[6, 13, 18, 20, 16, 20, 7, 3, 11, 8]\n",
      "Sortowanie szybkie: \n",
      "[3, 6, 7, 8, 11, 13, 16, 18, 20, 20]\n"
     ]
    }
   ],
   "source": [
    "import random\n",
    "tablica_przed_posortowaniem = [random.randrange(1,21) for i in range(0,10)]\n",
    "\n",
    "print(\"Przed posortowaniem: \")\n",
    "print(tablica_przed_posortowaniem)\n",
    "\n",
    "posort = list.copy(tablica_przed_posortowaniem)\n",
    "quicksort(posort,0,len(posort)-1)\n",
    "\n",
    "print(\"Sortowanie szybkie: \")\n",
    "print(posort)"
   ]
  },
  {
   "cell_type": "markdown",
   "metadata": {},
   "source": [
    "## Doświadczenie 2\n",
    "- Zakres liczb: -1000-1000,\n",
    "- Ilość liczb: 1 000 000,\n",
    "- Sposób wybierania: losowy,"
   ]
  },
  {
   "cell_type": "code",
   "execution_count": 19,
   "metadata": {},
   "outputs": [
    {
     "name": "stdout",
     "output_type": "stream",
     "text": [
      "Sortowanie szybkie: 28.029196699999375 sekund\n"
     ]
    }
   ],
   "source": [
    "import random\n",
    "from timeit import default_timer as timer\n",
    "tablica_przed_posortowaniem = [random.randrange(-1000,1001) for i in range(0,1000000)]\n",
    "posort = list.copy(tablica_przed_posortowaniem)\n",
    "\n",
    "qstart = timer()\n",
    "quicksort(posort,0,len(posort)-1)\n",
    "qend = timer()\n",
    "\n",
    "print(\"Sortowanie szybkie: \"+str(qend - qstart)+ \" sekund\")"
   ]
  },
  {
   "cell_type": "code",
   "execution_count": null,
   "metadata": {},
   "outputs": [],
   "source": []
  }
 ],
 "metadata": {
  "kernelspec": {
   "display_name": "Python 3",
   "language": "python",
   "name": "python3"
  },
  "language_info": {
   "codemirror_mode": {
    "name": "ipython",
    "version": 3
   },
   "file_extension": ".py",
   "mimetype": "text/x-python",
   "name": "python",
   "nbconvert_exporter": "python",
   "pygments_lexer": "ipython3",
   "version": "3.7.2"
  }
 },
 "nbformat": 4,
 "nbformat_minor": 4
}
