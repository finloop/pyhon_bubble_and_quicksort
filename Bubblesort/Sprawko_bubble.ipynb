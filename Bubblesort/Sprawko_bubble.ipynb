{
 "cells": [
  {
   "cell_type": "markdown",
   "metadata": {},
   "source": [
    "# Sortowanie bąbelkowe\n",
    "## Opis algorytmu\n",
    "Sortowanie bąbelkowe to algorytm, który przechodzi od początku tablicy do jej końca porównując kolejne elementy i zamieniając je ze sobą jeżeli są w złej kolejności. W ten sposób na koniec tablicy trafia zawsze największa wartość z tej tablicy, dzięku temu kolejne wywołanie algorytmu przechodzi już tylko do przedostatniego elementu. Cykl ten się powtarza aż do posortowaniazostanie tylko jeden element.\n",
    "## Kod"
   ]
  },
  {
   "cell_type": "code",
   "execution_count": 1,
   "metadata": {},
   "outputs": [],
   "source": [
    "def bubbleSort(sorted_list):\n",
    "    for nprzejscia in range(len(sorted_list)-1,0,-1):\n",
    "        zamiana = false\n",
    "        for i in range(nprzejscia):\n",
    "            if sorted_list[i]>sorted_list[i+1]:\n",
    "                sorted_list[i], sorted_list[i+1] = sorted_list[i+1], sorted_list[i]\n",
    "                zamiana = true\n",
    "        if !zamiana:\n",
    "            break"
   ]
  },
  {
   "cell_type": "markdown",
   "metadata": {},
   "source": [
    "## Schematy blokowe\n",
    "## TODO\n",
    "## Analiza matematyczna"
   ]
  },
  {
   "cell_type": "markdown",
   "metadata": {},
   "source": [
    "## Przypadek optymistyczny\n",
    "W tym przypadku algorytm sortuje posortowaną tablicę. Zatem już po pierwszym przejściu po tablicy z powodu braku zmian zakończy on działanie osiągają złożoność $ O(n) $.\n",
    "## Pozostałe przypadki\n",
    "W każdym pozostałym przypadku algorytm ten będzie osiągał złożoność $ O(n^{2}) $"
   ]
  },
  {
   "cell_type": "code",
   "execution_count": null,
   "metadata": {},
   "outputs": [],
   "source": []
  }
 ],
 "metadata": {
  "kernelspec": {
   "display_name": "Python 3",
   "language": "python",
   "name": "python3"
  },
  "language_info": {
   "codemirror_mode": {
    "name": "ipython",
    "version": 3
   },
   "file_extension": ".py",
   "mimetype": "text/x-python",
   "name": "python",
   "nbconvert_exporter": "python",
   "pygments_lexer": "ipython3",
   "version": "3.7.2"
  }
 },
 "nbformat": 4,
 "nbformat_minor": 4
}
